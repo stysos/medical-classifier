{
 "cells": [
  {
   "cell_type": "code",
   "execution_count": 4,
   "outputs": [
    {
     "name": "stdout",
     "output_type": "stream",
     "text": [
      "\n",
      "Loading\n",
      "Data loaded of length 704!\n",
      "Index(['A1_Score', 'A2_Score', 'A3_Score', 'A4_Score', 'A5_Score', 'A6_Score',\n",
      "       'A7_Score', 'A8_Score', 'A9_Score', 'A10_Score', 'age', 'gender',\n",
      "       'ethnicity', 'jundice', 'autism_relation', 'country_of_res',\n",
      "       'used_app_before', 'result', 'age_desc', 'relation', 'ASD'],\n",
      "      dtype='object')\n",
      "\n",
      "Created additional dataframe from dropped\n",
      "\n",
      "Preprocessing:\n",
      "Dropped ('used_app_before', 'country_of_res', 'age_desc', 'result', 'jundice') columns\n",
      "\n",
      "Encoding:\n",
      "Running encoding on ('autism_relation', 'ASD', 'gender')\n",
      "Encoded autism_relation\n",
      "Dropped autism_relation\n",
      "Encoded ASD\n",
      "Dropped ASD\n",
      "Encoded gender\n",
      "Dropped gender\n",
      "ethnicity added to additional\n",
      "ethnicity dropped from dataframe\n",
      "relation added to additional\n",
      "relation dropped from dataframe\n",
      "index 10 has 2 null values\n",
      "max slice:\n",
      "   A1_Score A2_Score A3_Score A4_Score A5_Score A6_Score A7_Score A8_Score   \n",
      "52        1        0        0        0        0        0        0        0  \\\n",
      "\n",
      "   A9_Score A10_Score    age  has_autism_relation  has_ASD  male  \n",
      "52        0         0  383.0                    0        0     0  \n",
      "Typo case dropped null_column.max()=64.0 \n",
      "29.19400855920114 mean\n",
      "   A1_Score A2_Score A3_Score A4_Score A5_Score A6_Score A7_Score A8_Score   \n",
      "62        0        0        0        0        0        0        0        0  \\\n",
      "91        0        1        0        0        1        0        1        0   \n",
      "\n",
      "   A9_Score A10_Score  age  has_autism_relation  has_ASD  male  \n",
      "62        0         0  NaN                    0        0     1  \n",
      "91        0         1  NaN                    0        0     0  \n",
      "Dropped null case at null_index=62\n",
      "Dropped null case at null_index=91\n",
      "A1_Score is now type <class 'numpy.int32'>\n",
      "A2_Score is now type <class 'numpy.int32'>\n",
      "A3_Score is now type <class 'numpy.int32'>\n",
      "A4_Score is now type <class 'numpy.int32'>\n",
      "A5_Score is now type <class 'numpy.int32'>\n",
      "A6_Score is now type <class 'numpy.int32'>\n",
      "A7_Score is now type <class 'numpy.int32'>\n",
      "A8_Score is now type <class 'numpy.int32'>\n",
      "A9_Score is now type <class 'numpy.int32'>\n",
      "A10_Score is now type <class 'numpy.int32'>\n",
      "age is now type <class 'numpy.int32'>\n",
      "has_autism_relation is now type <class 'numpy.int32'>\n",
      "has_ASD is now type <class 'numpy.int32'>\n",
      "male is now type <class 'numpy.int32'>\n",
      "Slightly Agree changed to 1 in q1\n",
      "Slightly Agree changed to 0 in q2\n",
      "Slightly Disagree changed to 1 in q3\n",
      "Slightly Disagree changed to 1 in q4\n",
      "Slightly Agree changed to 0 in q5\n",
      "Slightly Agree changed to 0 in q6\n",
      "Definitely Disagree changed to 0 in q7\n",
      "Definitely Agree changed to 1 in q8\n",
      " changed to 0 in q9\n",
      "Slightly Disagree changed to 0 in q10\n",
      "Slightly Agree changed to 1 in q1\n",
      "Slightly Agree changed to 0 in q2\n",
      "Slightly Disagree changed to 1 in q3\n",
      "Slightly Disagree changed to 1 in q4\n",
      "Slightly Agree changed to 0 in q5\n",
      "Slightly Agree changed to 0 in q6\n",
      "Definitely Disagree changed to 0 in q7\n",
      "Definitely Agree changed to 1 in q8\n",
      " changed to 0 in q9\n",
      "Slightly Disagree changed to 0 in q10\n"
     ]
    }
   ],
   "source": [
    "import data_preprocess as dp\n",
    "from dearpygui import dearpygui as dpg\n",
    "import pandas as pd\n",
    "import os\n",
    "\n",
    "if __name__ == '__main__':\n",
    "    path_arff = open('data/Autism-Adult-Data.arff')\n",
    "    df = dp.load_data(path_arff)\n",
    "    df, df_additional = dp.drop_columns(df, 'used_app_before', 'country_of_res', 'age_desc', 'result', 'jundice')\n",
    "    df = dp.binary_encoding(df, 'autism_relation', 'ASD', 'gender')\n",
    "    df, df_additional = dp.remove_categorical(df, df_additional, 'ethnicity', 'relation')\n",
    "    df = dp.locate_na_index(df)\n",
    "    df = dp.correct_types(df)\n",
    "    X, x, y = dp.create_training_variables(df)\n",
    "    x_train, x_test, y_train, y_test = dp.split_train_test(x, y)\n",
    "    # x_train, x_test, scaler = dp.create_scaler(x_train, x_test)\n",
    "    regressor = dp.create_model(x_train, y_train)\n",
    "\n",
    "    y_pred, score = dp.test_model(regressor, x_test, y_test)\n",
    "\n",
    "\n",
    "\n",
    "## UI\n",
    "\n",
    "dpg.create_context() # Creates context\n",
    "\n",
    "\n",
    "with dpg.value_registry():\n",
    "    tags = ['q' + f'{i}' for i in range(1, 11)]\n",
    "    for tag in tags:\n",
    "        dpg.add_string_value(tag=tag)\n",
    "    dpg.add_int_value(tag='score', default_value=0)\n",
    "    dpg.add_int_value(tag='age', default_value=0)\n",
    "    dpg.add_string_value(tag='relation')\n",
    "    dpg.add_string_value(tag='gender')\n",
    "    dpg.add_int_value(tag='result')\n",
    "\n",
    "\n",
    "#TODO: Work out how to check answers (some questions are inverted, maybe if [inverted question] else: score normal ?\n",
    "def store_results():\n",
    "    # with dpg.value_registry():\n",
    "    tags = ['q' + f'{i}' for i in range(1, 11)]\n",
    "    score = 0\n",
    "    reverse_marked = ['q1', 'q7', 'q8', 'q10']\n",
    "    for tag in tags:\n",
    "        if tag in reverse_marked:\n",
    "            value = dpg.get_value(tag)\n",
    "            if value == 'Definitely Agree' or value == 'Slightly Agree':\n",
    "                score += 1\n",
    "            else:\n",
    "                pass\n",
    "        else:\n",
    "            value = dpg.get_value(tag)\n",
    "            if value == 'Definitely Disagree' or value == 'Slightly Disagree':\n",
    "                score += 1\n",
    "            else:\n",
    "                pass\n",
    "    dpg.set_value(value=score, item='score')\n",
    "    dpg.set_value(value=f'AQ-10 score: {dpg.get_value(\"score\")}', item='aq_score')\n",
    "\n",
    "\n",
    "def AQ10():\n",
    "    with dpg.window(label='AQ-10 Test'):\n",
    "        options = ['Definitely Agree', 'Slightly Agree', 'Slightly Disagree', 'Definitely Disagree']\n",
    "        dpg.add_text('Question 1: I often notice small sounds when others do not')\n",
    "        dpg.add_radio_button(items=options, label='1', source='q1')\n",
    "        dpg.add_text('Question 2: I usually concentrate more on the whole picture, rather than the small details')\n",
    "        dpg.add_radio_button(items=options, label='2', source='q2')\n",
    "        dpg.add_text('Question 3: I find it easy to do more than one thing at once')\n",
    "        dpg.add_radio_button(items=options, label='3', source='q3')\n",
    "        dpg.add_text('Question 4: If there is an interruption, I can switch back to what I was doing very quickly')\n",
    "        dpg.add_radio_button(items=options, label='4', source='q4')\n",
    "        dpg.add_text('Question 5: I find it easy to \"read between the lines\" when someone is talking to me')\n",
    "        dpg.add_radio_button(items=options, label='5', source='q5')\n",
    "        dpg.add_text('Question 6: I know how to tell if someone listening to me is getting bored')\n",
    "        dpg.add_radio_button(items=options, label='6', source='q6')\n",
    "        dpg.add_text('Question 7: When I am reading a story I find it difficult to work out the characters intentions')\n",
    "        dpg.add_radio_button(items=options, label='7', source='q7')\n",
    "        dpg.add_text('Question 8: I like to collect information about categories of things (e.g. types of car, types of bird, types of train, types of plant etc)')\n",
    "        dpg.add_radio_button(items=options, label='8', source='q8')\n",
    "        dpg.add_text('Question 9: I find it easy to work out what someone is thinking or feeling just by looking at their face')\n",
    "        dpg.add_radio_button(items=options, label='9', source='q9')\n",
    "        dpg.add_text('Question 10: I find it difficult to work out people’s intentions')\n",
    "        dpg.add_radio_button(items=options, label='10', source='q10')\n",
    "        dpg.add_button(label='Submit', callback=store_results)\n",
    "\n",
    "\n",
    "def save_csv(value_df):\n",
    "    value_df.to_csv('saved_results.csv')\n",
    "\n",
    "\n",
    "def create_result(model, transformer):\n",
    "    with dpg.window(label='Results Page'):\n",
    "        items = ['q' + f'{i}' for i in range(1, 11)]\n",
    "        items.extend(['age', 'relation', 'gender']) #score removed as high correlation not adding much to model\n",
    "        values = dpg.get_values(items)\n",
    "        values_df = pd.DataFrame(columns=items)\n",
    "        values_df.loc[0] = values\n",
    "\n",
    "        questions = ['q' + f'{i}' for i in range(1, 11)]\n",
    "        for question in questions:\n",
    "            reverse_marked = ['q1', 'q7', 'q8', 'q10']\n",
    "            if question in reverse_marked:\n",
    "                value = values_df[question][0]\n",
    "                if value == 'Definitely Agree' or value == 'Slightly Agree':\n",
    "                    print(f'{value} changed to 1 in {question}')\n",
    "                    values_df[question] = 1\n",
    "                else:\n",
    "                    values_df[question] = 0\n",
    "                    print(f'{value} changed to 0 in {question}')\n",
    "            else:\n",
    "                value = values_df[question][0]\n",
    "                if value == 'Definitely Disagree' or value == 'Slightly Disagree':\n",
    "                    values_df[question] = 1\n",
    "                    print(f'{value} changed to 1 in {question}')\n",
    "                else:\n",
    "                    values_df[question] = 0\n",
    "                    print(f'{value} changed to 0 in {question}')\n",
    "        if values_df['relation'][0] == 'Yes':\n",
    "            values_df['relation'] = 1\n",
    "        else:\n",
    "            values_df['relation'] = 0\n",
    "        if values_df['gender'][0] == 'Male':\n",
    "            values_df['gender'] = 1\n",
    "        else:\n",
    "            values_df['gender'] = 0\n",
    "        value_array = values_df.values\n",
    "        # value_array = scaler.transform(value_array)\n",
    "        result = regressor.predict(value_array)\n",
    "        dpg.set_value(value=int(result), item='result')\n",
    "        values_df['result'] = result\n",
    "        if dpg.get_value(\"result\") == 0:\n",
    "            dpg.add_text(f'Likely do not have ASD')\n",
    "            dpg.add_text(f'{values_df}')\n",
    "            if dpg.get_value(\"score\") >= 6:\n",
    "                dpg.add_text(f'As the AQ-10 score is 6 or greater, it is still recommended to test further.')\n",
    "\n",
    "        else:\n",
    "            dpg.add_text(f'Likely have ASD - further testing is recommended.')\n",
    "            dpg.add_text(f'{values_df}')\n",
    "        file_name = 'saved_results.csv'\n",
    "        # To avoid writing headers repeatedly\n",
    "        if os.path.isfile(file_name):\n",
    "            mode='a'\n",
    "            headers=False\n",
    "        else:\n",
    "            mode = 'w'\n",
    "            headers=True\n",
    "        dpg.add_text(f'Results saved to {file_name}')\n",
    "        values_df.to_csv(file_name, mode=mode, header=headers, index=False)\n",
    "\n",
    "\n",
    "\n",
    "def classify():\n",
    "    with dpg.window(label='Classifier'):\n",
    "        dpg.add_button(label='AQ-10 Test', callback=AQ10)\n",
    "        dpg.add_text(tag='aq_score', default_value=f'AQ-10 not yet completed')\n",
    "        dpg.add_input_int(label='Age', source='age')\n",
    "        dpg.add_text('Relation with autism?')\n",
    "        dpg.add_radio_button(items=['Yes', 'No'], label='Relation', source='relation')\n",
    "        dpg.add_text('Gender')\n",
    "        dpg.add_radio_button(items=['Male', 'Female'], label='Gender', source='gender')\n",
    "        dpg.add_button(label='Get Results', callback=create_result)\n",
    "\n",
    "\n",
    "\n",
    "\n",
    "def instructions():\n",
    "    with dpg.window(label='Instructions'):\n",
    "        dpg.add_text('1. Click Classify Button.')\n",
    "        dpg.add_text('2.Complete AQ-10 Test and click submit at the bottom')\n",
    "        dpg.add_text('3. Enter age, relation and gender')\n",
    "        dpg.add_text('4. Click Get Results!')\n",
    "\n",
    "\n",
    "with dpg.window(label='Main Menu', tag='main_menu', width=1280, height=720, no_close=True):\n",
    "    dpg.add_text('Please select an option!')\n",
    "    dpg.add_button(label='Instructions', callback=instructions)\n",
    "    dpg.add_button(label='Classify', callback=classify)\n",
    "\n",
    "\n",
    "dpg.create_viewport(title='Healthcare Diagnosis Support', width=1280, height=720) # Creates overall window\n",
    "dpg.setup_dearpygui() # Assign Viewport\n",
    "dpg.show_viewport() # Shows overall window\n",
    "dpg.start_dearpygui() # Starts window\n",
    "dpg.destroy_context() # Destroys context\n",
    "\n",
    "\n"
   ],
   "metadata": {
    "collapsed": false
   }
  },
  {
   "cell_type": "markdown",
   "source": [
    "####"
   ],
   "metadata": {
    "collapsed": false
   }
  },
  {
   "cell_type": "markdown",
   "source": [
    "### Testing Techniques and Model Analysis"
   ],
   "metadata": {
    "collapsed": false
   }
  },
  {
   "cell_type": "code",
   "execution_count": 2,
   "outputs": [
    {
     "ename": "NameError",
     "evalue": "name 'dpg' is not defined",
     "output_type": "error",
     "traceback": [
      "\u001B[1;31m---------------------------------------------------------------------------\u001B[0m",
      "\u001B[1;31mNameError\u001B[0m                                 Traceback (most recent call last)",
      "Cell \u001B[1;32mIn[2], line 1\u001B[0m\n\u001B[1;32m----> 1\u001B[0m \u001B[43mdpg\u001B[49m\u001B[38;5;241m.\u001B[39mget_aliases()\n",
      "\u001B[1;31mNameError\u001B[0m: name 'dpg' is not defined"
     ]
    }
   ],
   "source": [
    "import data_preprocess as dp\n",
    "path_arff = open('data/Autism-Adult-Data.arff')\n",
    "data = dp.load_data(path_arff)\n",
    "data, df_additional = dp.drop_columns(data, 'used_app_before', 'country_of_res', 'age_desc', 'result', 'jundice')\n",
    "data = dp.binary_encoding(data, 'autism_relation', 'ASD', 'gender')\n",
    "data, df_additional = dp.remove_categorical(data, df_additional, 'ethnicity', 'relation')\n",
    "data = dp.locate_na_index(data)\n",
    "data = dp.correct_types(data)"
   ],
   "metadata": {
    "collapsed": false
   }
  },
  {
   "cell_type": "code",
   "execution_count": null,
   "outputs": [],
   "source": [
    "dframe = pd.DataFrame(columns=X.columns)\n",
    "dframe.loc[0] = regressor.coef_[0]\n",
    "dframe = dframe.transpose()\n",
    "\n",
    "dframe.plot.bar(legend=False)"
   ],
   "metadata": {
    "collapsed": false
   }
  },
  {
   "cell_type": "code",
   "execution_count": 7,
   "outputs": [
    {
     "name": "stdout",
     "output_type": "stream",
     "text": [
      "unique=array([0, 1]), counts=array([101,  40], dtype=int64)\n"
     ]
    }
   ],
   "source": [
    "import numpy as np\n",
    "\n",
    "\n",
    "unique, counts = np.unique(y_test, return_counts=True)\n",
    "print(f'{unique=}, {counts=}')"
   ],
   "metadata": {
    "collapsed": false
   }
  },
  {
   "cell_type": "markdown",
   "source": [
    "## SMOTE Testing"
   ],
   "metadata": {
    "collapsed": false
   }
  },
  {
   "cell_type": "code",
   "execution_count": 41,
   "outputs": [
    {
     "name": "stdout",
     "output_type": "stream",
     "text": [
      "0.9574468085106383\n",
      "actual=0, y_pred_res[i]=1\n",
      "actual=0, y_pred_res[i]=1\n",
      "actual=0, y_pred_res[i]=1\n",
      "actual=0, y_pred_res[i]=1\n",
      "actual=0, y_pred_res[i]=1\n",
      "actual=0, y_pred_res[i]=1\n",
      "1.0\n"
     ]
    }
   ],
   "source": [
    "from imblearn.over_sampling import SMOTE\n",
    "from sklearn.linear_model import LogisticRegression\n",
    "from sklearn.metrics import accuracy_score\n",
    "from sklearn.metrics import recall_score\n",
    "\n",
    "sm = SMOTE(random_state=42)\n",
    "\n",
    "x_train_res, y_train_res = sm.fit_resample(x_train, y_train)\n",
    "lr2 = LogisticRegression(max_iter=1000)\n",
    "lr2.fit(x_train_res, y_train_res)\n",
    "y_pred_res = lr2.predict(x_test)\n",
    "score2 = accuracy_score(y_test, y_pred_res)\n",
    "print(score2)\n",
    "rscore2 = recall_score(y_test, y_pred_res)\n",
    "for i, val in enumerate(y_test):\n",
    "    if val == y_pred_res[i]:\n",
    "        pass\n",
    "    else:\n",
    "        print(f'actual={val}, {y_pred_res[i]=}')\n",
    "\n",
    "print(rscore2)"
   ],
   "metadata": {
    "collapsed": false
   }
  },
  {
   "cell_type": "code",
   "execution_count": 42,
   "outputs": [
    {
     "name": "stdout",
     "output_type": "stream",
     "text": [
      "160\n"
     ]
    }
   ],
   "source": [
    "count =0\n",
    "for val in y_train:\n",
    "    if val == 1:\n",
    "        count +=1\n",
    "    else:\n",
    "        pass\n",
    "print(count)"
   ],
   "metadata": {
    "collapsed": false
   }
  },
  {
   "cell_type": "code",
   "execution_count": 43,
   "outputs": [
    {
     "name": "stdout",
     "output_type": "stream",
     "text": [
      "400\n"
     ]
    }
   ],
   "source": [
    "count =0\n",
    "for val in y_train_res:\n",
    "    if val == 1:\n",
    "        count +=1\n",
    "    else:\n",
    "        pass\n",
    "print(count)"
   ],
   "metadata": {
    "collapsed": false
   }
  },
  {
   "cell_type": "code",
   "execution_count": 21,
   "outputs": [
    {
     "data": {
      "text/plain": "562"
     },
     "execution_count": 21,
     "metadata": {},
     "output_type": "execute_result"
    }
   ],
   "source": [
    "len(y_train)"
   ],
   "metadata": {
    "collapsed": false
   }
  },
  {
   "cell_type": "code",
   "execution_count": null,
   "outputs": [],
   "source": [],
   "metadata": {
    "collapsed": false
   }
  }
 ],
 "metadata": {
  "kernelspec": {
   "display_name": "Python 3",
   "language": "python",
   "name": "python3"
  },
  "language_info": {
   "codemirror_mode": {
    "name": "ipython",
    "version": 2
   },
   "file_extension": ".py",
   "mimetype": "text/x-python",
   "name": "python",
   "nbconvert_exporter": "python",
   "pygments_lexer": "ipython2",
   "version": "2.7.6"
  }
 },
 "nbformat": 4,
 "nbformat_minor": 0
}
